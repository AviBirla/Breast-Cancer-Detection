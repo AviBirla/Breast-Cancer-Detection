{
  "nbformat": 4,
  "nbformat_minor": 0,
  "metadata": {
    "colab": {
      "name": "Breast Cancer Detection",
      "provenance": [],
      "collapsed_sections": []
    },
    "kernelspec": {
      "name": "python3",
      "display_name": "Python 3"
    },
    "language_info": {
      "name": "python"
    }
  },
  "cells": [
    {
      "cell_type": "markdown",
      "metadata": {
        "id": "CJvD-dugIZ4d"
      },
      "source": [
        "#  **ML Breast Cancer Wisconsin (Diagnostic) Dataset **"
      ]
    },
    {
      "cell_type": "code",
      "metadata": {
        "id": "UsdCHTMAgkgK"
      },
      "source": [
        "from sklearn.datasets import load_breast_cancer\n",
        "from sklearn.preprocessing import StandardScaler\n",
        "\n",
        "import pandas as pd\n",
        "import numpy as np\n",
        "\n",
        "# to create neural network : \n",
        "from keras.models import Sequential\n",
        "from keras.layers import Dense"
      ],
      "execution_count": 197,
      "outputs": []
    },
    {
      "cell_type": "code",
      "metadata": {
        "id": "0H2nga7zhLcx"
      },
      "source": [
        "data=load_breast_cancer()\n"
      ],
      "execution_count": 198,
      "outputs": []
    },
    {
      "cell_type": "code",
      "metadata": {
        "colab": {
          "base_uri": "https://localhost:8080/"
        },
        "id": "ma2DNimfhLgw",
        "outputId": "8bd6258b-28b7-42ae-852a-eba2389e83cc"
      },
      "source": [
        "# after watching data we found out that data is in dict form since it has key:value pair\n",
        "data.keys()"
      ],
      "execution_count": 199,
      "outputs": [
        {
          "output_type": "execute_result",
          "data": {
            "text/plain": [
              "dict_keys(['data', 'target', 'target_names', 'DESCR', 'feature_names', 'filename'])"
            ]
          },
          "metadata": {},
          "execution_count": 199
        }
      ]
    },
    {
      "cell_type": "code",
      "metadata": {
        "colab": {
          "base_uri": "https://localhost:8080/"
        },
        "id": "3TDe4aKGhLkf",
        "outputId": "2d0ef56c-1b8e-4259-e83f-756161bbc348"
      },
      "source": [
        "print(data['DESCR'])\n",
        "# total 569 number of samples/instace and each instace is having 30 numeric attributes/features "
      ],
      "execution_count": 200,
      "outputs": [
        {
          "output_type": "stream",
          "name": "stdout",
          "text": [
            ".. _breast_cancer_dataset:\n",
            "\n",
            "Breast cancer wisconsin (diagnostic) dataset\n",
            "--------------------------------------------\n",
            "\n",
            "**Data Set Characteristics:**\n",
            "\n",
            "    :Number of Instances: 569\n",
            "\n",
            "    :Number of Attributes: 30 numeric, predictive attributes and the class\n",
            "\n",
            "    :Attribute Information:\n",
            "        - radius (mean of distances from center to points on the perimeter)\n",
            "        - texture (standard deviation of gray-scale values)\n",
            "        - perimeter\n",
            "        - area\n",
            "        - smoothness (local variation in radius lengths)\n",
            "        - compactness (perimeter^2 / area - 1.0)\n",
            "        - concavity (severity of concave portions of the contour)\n",
            "        - concave points (number of concave portions of the contour)\n",
            "        - symmetry \n",
            "        - fractal dimension (\"coastline approximation\" - 1)\n",
            "\n",
            "        The mean, standard error, and \"worst\" or largest (mean of the three\n",
            "        largest values) of these features were computed for each image,\n",
            "        resulting in 30 features.  For instance, field 3 is Mean Radius, field\n",
            "        13 is Radius SE, field 23 is Worst Radius.\n",
            "\n",
            "        - class:\n",
            "                - WDBC-Malignant\n",
            "                - WDBC-Benign\n",
            "\n",
            "    :Summary Statistics:\n",
            "\n",
            "    ===================================== ====== ======\n",
            "                                           Min    Max\n",
            "    ===================================== ====== ======\n",
            "    radius (mean):                        6.981  28.11\n",
            "    texture (mean):                       9.71   39.28\n",
            "    perimeter (mean):                     43.79  188.5\n",
            "    area (mean):                          143.5  2501.0\n",
            "    smoothness (mean):                    0.053  0.163\n",
            "    compactness (mean):                   0.019  0.345\n",
            "    concavity (mean):                     0.0    0.427\n",
            "    concave points (mean):                0.0    0.201\n",
            "    symmetry (mean):                      0.106  0.304\n",
            "    fractal dimension (mean):             0.05   0.097\n",
            "    radius (standard error):              0.112  2.873\n",
            "    texture (standard error):             0.36   4.885\n",
            "    perimeter (standard error):           0.757  21.98\n",
            "    area (standard error):                6.802  542.2\n",
            "    smoothness (standard error):          0.002  0.031\n",
            "    compactness (standard error):         0.002  0.135\n",
            "    concavity (standard error):           0.0    0.396\n",
            "    concave points (standard error):      0.0    0.053\n",
            "    symmetry (standard error):            0.008  0.079\n",
            "    fractal dimension (standard error):   0.001  0.03\n",
            "    radius (worst):                       7.93   36.04\n",
            "    texture (worst):                      12.02  49.54\n",
            "    perimeter (worst):                    50.41  251.2\n",
            "    area (worst):                         185.2  4254.0\n",
            "    smoothness (worst):                   0.071  0.223\n",
            "    compactness (worst):                  0.027  1.058\n",
            "    concavity (worst):                    0.0    1.252\n",
            "    concave points (worst):               0.0    0.291\n",
            "    symmetry (worst):                     0.156  0.664\n",
            "    fractal dimension (worst):            0.055  0.208\n",
            "    ===================================== ====== ======\n",
            "\n",
            "    :Missing Attribute Values: None\n",
            "\n",
            "    :Class Distribution: 212 - Malignant, 357 - Benign\n",
            "\n",
            "    :Creator:  Dr. William H. Wolberg, W. Nick Street, Olvi L. Mangasarian\n",
            "\n",
            "    :Donor: Nick Street\n",
            "\n",
            "    :Date: November, 1995\n",
            "\n",
            "This is a copy of UCI ML Breast Cancer Wisconsin (Diagnostic) datasets.\n",
            "https://goo.gl/U2Uwz2\n",
            "\n",
            "Features are computed from a digitized image of a fine needle\n",
            "aspirate (FNA) of a breast mass.  They describe\n",
            "characteristics of the cell nuclei present in the image.\n",
            "\n",
            "Separating plane described above was obtained using\n",
            "Multisurface Method-Tree (MSM-T) [K. P. Bennett, \"Decision Tree\n",
            "Construction Via Linear Programming.\" Proceedings of the 4th\n",
            "Midwest Artificial Intelligence and Cognitive Science Society,\n",
            "pp. 97-101, 1992], a classification method which uses linear\n",
            "programming to construct a decision tree.  Relevant features\n",
            "were selected using an exhaustive search in the space of 1-4\n",
            "features and 1-3 separating planes.\n",
            "\n",
            "The actual linear program used to obtain the separating plane\n",
            "in the 3-dimensional space is that described in:\n",
            "[K. P. Bennett and O. L. Mangasarian: \"Robust Linear\n",
            "Programming Discrimination of Two Linearly Inseparable Sets\",\n",
            "Optimization Methods and Software 1, 1992, 23-34].\n",
            "\n",
            "This database is also available through the UW CS ftp server:\n",
            "\n",
            "ftp ftp.cs.wisc.edu\n",
            "cd math-prog/cpo-dataset/machine-learn/WDBC/\n",
            "\n",
            ".. topic:: References\n",
            "\n",
            "   - W.N. Street, W.H. Wolberg and O.L. Mangasarian. Nuclear feature extraction \n",
            "     for breast tumor diagnosis. IS&T/SPIE 1993 International Symposium on \n",
            "     Electronic Imaging: Science and Technology, volume 1905, pages 861-870,\n",
            "     San Jose, CA, 1993.\n",
            "   - O.L. Mangasarian, W.N. Street and W.H. Wolberg. Breast cancer diagnosis and \n",
            "     prognosis via linear programming. Operations Research, 43(4), pages 570-577, \n",
            "     July-August 1995.\n",
            "   - W.H. Wolberg, W.N. Street, and O.L. Mangasarian. Machine learning techniques\n",
            "     to diagnose breast cancer from fine-needle aspirates. Cancer Letters 77 (1994) \n",
            "     163-171.\n"
          ]
        }
      ]
    },
    {
      "cell_type": "code",
      "metadata": {
        "colab": {
          "base_uri": "https://localhost:8080/"
        },
        "id": "Ya21nE3MiLBD",
        "outputId": "1a960f42-538e-462e-8a25-7db012a426f5"
      },
      "source": [
        "print(data['data'].shape)"
      ],
      "execution_count": 201,
      "outputs": [
        {
          "output_type": "stream",
          "name": "stdout",
          "text": [
            "(569, 30)\n"
          ]
        }
      ]
    },
    {
      "cell_type": "code",
      "metadata": {
        "colab": {
          "base_uri": "https://localhost:8080/"
        },
        "id": "bZ5aMHJKiLGC",
        "outputId": "ca1c2200-d974-42c1-c7f4-ea8ff99c99f4"
      },
      "source": [
        "data['feature_names']"
      ],
      "execution_count": 202,
      "outputs": [
        {
          "output_type": "execute_result",
          "data": {
            "text/plain": [
              "array(['mean radius', 'mean texture', 'mean perimeter', 'mean area',\n",
              "       'mean smoothness', 'mean compactness', 'mean concavity',\n",
              "       'mean concave points', 'mean symmetry', 'mean fractal dimension',\n",
              "       'radius error', 'texture error', 'perimeter error', 'area error',\n",
              "       'smoothness error', 'compactness error', 'concavity error',\n",
              "       'concave points error', 'symmetry error',\n",
              "       'fractal dimension error', 'worst radius', 'worst texture',\n",
              "       'worst perimeter', 'worst area', 'worst smoothness',\n",
              "       'worst compactness', 'worst concavity', 'worst concave points',\n",
              "       'worst symmetry', 'worst fractal dimension'], dtype='<U23')"
            ]
          },
          "metadata": {},
          "execution_count": 202
        }
      ]
    },
    {
      "cell_type": "code",
      "metadata": {
        "colab": {
          "base_uri": "https://localhost:8080/"
        },
        "id": "qLIej8TfiLI8",
        "outputId": "eecedece-963a-467f-ba71-551da3c0c15b"
      },
      "source": [
        "data['data'][0]    #30 numeric attributes values for 1st sample"
      ],
      "execution_count": 203,
      "outputs": [
        {
          "output_type": "execute_result",
          "data": {
            "text/plain": [
              "array([1.799e+01, 1.038e+01, 1.228e+02, 1.001e+03, 1.184e-01, 2.776e-01,\n",
              "       3.001e-01, 1.471e-01, 2.419e-01, 7.871e-02, 1.095e+00, 9.053e-01,\n",
              "       8.589e+00, 1.534e+02, 6.399e-03, 4.904e-02, 5.373e-02, 1.587e-02,\n",
              "       3.003e-02, 6.193e-03, 2.538e+01, 1.733e+01, 1.846e+02, 2.019e+03,\n",
              "       1.622e-01, 6.656e-01, 7.119e-01, 2.654e-01, 4.601e-01, 1.189e-01])"
            ]
          },
          "metadata": {},
          "execution_count": 203
        }
      ]
    },
    {
      "cell_type": "code",
      "metadata": {
        "colab": {
          "base_uri": "https://localhost:8080/"
        },
        "id": "pIEhkI2PkSMk",
        "outputId": "9253efa0-fac0-483a-bc69-1e4e85fcfd58"
      },
      "source": [
        "# o/p values of 1st sample\n",
        "j=0\n",
        "for i in data['feature_names']:\n",
        "  print(i,\"--->\",data['data'][0][j])\n",
        "  j+=1"
      ],
      "execution_count": 204,
      "outputs": [
        {
          "output_type": "stream",
          "name": "stdout",
          "text": [
            "mean radius ---> 17.99\n",
            "mean texture ---> 10.38\n",
            "mean perimeter ---> 122.8\n",
            "mean area ---> 1001.0\n",
            "mean smoothness ---> 0.1184\n",
            "mean compactness ---> 0.2776\n",
            "mean concavity ---> 0.3001\n",
            "mean concave points ---> 0.1471\n",
            "mean symmetry ---> 0.2419\n",
            "mean fractal dimension ---> 0.07871\n",
            "radius error ---> 1.095\n",
            "texture error ---> 0.9053\n",
            "perimeter error ---> 8.589\n",
            "area error ---> 153.4\n",
            "smoothness error ---> 0.006399\n",
            "compactness error ---> 0.04904\n",
            "concavity error ---> 0.05373\n",
            "concave points error ---> 0.01587\n",
            "symmetry error ---> 0.03003\n",
            "fractal dimension error ---> 0.006193\n",
            "worst radius ---> 25.38\n",
            "worst texture ---> 17.33\n",
            "worst perimeter ---> 184.6\n",
            "worst area ---> 2019.0\n",
            "worst smoothness ---> 0.1622\n",
            "worst compactness ---> 0.6656\n",
            "worst concavity ---> 0.7119\n",
            "worst concave points ---> 0.2654\n",
            "worst symmetry ---> 0.4601\n",
            "worst fractal dimension ---> 0.1189\n"
          ]
        }
      ]
    },
    {
      "cell_type": "code",
      "metadata": {
        "colab": {
          "base_uri": "https://localhost:8080/"
        },
        "id": "JUoZ6dzGkSPM",
        "outputId": "eae5f39e-7d01-4144-efcf-f40397527394"
      },
      "source": [
        "print(data['target'])   # <--- 1 dimentional (569,)\n",
        "print(data['target_names'])\n",
        "\n",
        "# therefore \"0---> malignant\" ; \"1---> benign\" "
      ],
      "execution_count": 205,
      "outputs": [
        {
          "output_type": "stream",
          "name": "stdout",
          "text": [
            "[0 0 0 0 0 0 0 0 0 0 0 0 0 0 0 0 0 0 0 1 1 1 0 0 0 0 0 0 0 0 0 0 0 0 0 0 0\n",
            " 1 0 0 0 0 0 0 0 0 1 0 1 1 1 1 1 0 0 1 0 0 1 1 1 1 0 1 0 0 1 1 1 1 0 1 0 0\n",
            " 1 0 1 0 0 1 1 1 0 0 1 0 0 0 1 1 1 0 1 1 0 0 1 1 1 0 0 1 1 1 1 0 1 1 0 1 1\n",
            " 1 1 1 1 1 1 0 0 0 1 0 0 1 1 1 0 0 1 0 1 0 0 1 0 0 1 1 0 1 1 0 1 1 1 1 0 1\n",
            " 1 1 1 1 1 1 1 1 0 1 1 1 1 0 0 1 0 1 1 0 0 1 1 0 0 1 1 1 1 0 1 1 0 0 0 1 0\n",
            " 1 0 1 1 1 0 1 1 0 0 1 0 0 0 0 1 0 0 0 1 0 1 0 1 1 0 1 0 0 0 0 1 1 0 0 1 1\n",
            " 1 0 1 1 1 1 1 0 0 1 1 0 1 1 0 0 1 0 1 1 1 1 0 1 1 1 1 1 0 1 0 0 0 0 0 0 0\n",
            " 0 0 0 0 0 0 0 1 1 1 1 1 1 0 1 0 1 1 0 1 1 0 1 0 0 1 1 1 1 1 1 1 1 1 1 1 1\n",
            " 1 0 1 1 0 1 0 1 1 1 1 1 1 1 1 1 1 1 1 1 1 0 1 1 1 0 1 0 1 1 1 1 0 0 0 1 1\n",
            " 1 1 0 1 0 1 0 1 1 1 0 1 1 1 1 1 1 1 0 0 0 1 1 1 1 1 1 1 1 1 1 1 0 0 1 0 0\n",
            " 0 1 0 0 1 1 1 1 1 0 1 1 1 1 1 0 1 1 1 0 1 1 0 0 1 1 1 1 1 1 0 1 1 1 1 1 1\n",
            " 1 0 1 1 1 1 1 0 1 1 0 1 1 1 1 1 1 1 1 1 1 1 1 0 1 0 0 1 0 1 1 1 1 1 0 1 1\n",
            " 0 1 0 1 1 0 1 0 1 1 1 1 1 1 1 1 0 0 1 1 1 1 1 1 0 1 1 1 1 1 1 1 1 1 1 0 1\n",
            " 1 1 1 1 1 1 0 1 0 1 1 0 1 1 1 1 1 0 0 1 0 1 0 1 1 1 1 1 0 1 1 0 1 0 1 0 0\n",
            " 1 1 1 0 1 1 1 1 1 1 1 1 1 1 1 0 1 0 0 1 1 1 1 1 1 1 1 1 1 1 1 1 1 1 1 1 1\n",
            " 1 1 1 1 1 1 1 0 0 0 0 0 0 1]\n",
            "['malignant' 'benign']\n"
          ]
        }
      ]
    },
    {
      "cell_type": "code",
      "metadata": {
        "colab": {
          "base_uri": "https://localhost:8080/"
        },
        "id": "wq8v-JnMkSRs",
        "outputId": "8df99474-e929-4ef5-9555-487b74ce80e7"
      },
      "source": [
        "data['target_names']"
      ],
      "execution_count": 206,
      "outputs": [
        {
          "output_type": "execute_result",
          "data": {
            "text/plain": [
              "array(['malignant', 'benign'], dtype='<U9')"
            ]
          },
          "metadata": {},
          "execution_count": 206
        }
      ]
    },
    {
      "cell_type": "code",
      "metadata": {
        "id": "C3vcCYMtiLOa"
      },
      "source": [
        "feature=data['data']\n",
        "label=data['target']\n"
      ],
      "execution_count": 207,
      "outputs": []
    },
    {
      "cell_type": "code",
      "metadata": {
        "id": "kyykrVaUiLRs"
      },
      "source": [
        "scale=StandardScaler()                              #affects accuracy.\n",
        "feature=scale.fit_transform(feature)"
      ],
      "execution_count": 208,
      "outputs": []
    },
    {
      "cell_type": "code",
      "metadata": {
        "colab": {
          "base_uri": "https://localhost:8080/"
        },
        "id": "GQ4fHeWJoJZJ",
        "outputId": "96462869-43a2-4041-8919-5f28e7f3b94b"
      },
      "source": [
        "j=0\n",
        "for i in data['feature_names']:\n",
        "  print(i,\"--->\",feature[0][j])\n",
        "  j+=1\n",
        "\n",
        "#All values are close to easy other so now its easy for our comp or algorithm to work with these value and treat them equally  "
      ],
      "execution_count": 209,
      "outputs": [
        {
          "output_type": "stream",
          "name": "stdout",
          "text": [
            "mean radius ---> 1.0970639814699807\n",
            "mean texture ---> -2.0733350146975935\n",
            "mean perimeter ---> 1.2699336881399383\n",
            "mean area ---> 0.9843749048031144\n",
            "mean smoothness ---> 1.568466329243428\n",
            "mean compactness ---> 3.2835146709868264\n",
            "mean concavity ---> 2.652873983743168\n",
            "mean concave points ---> 2.532475216403245\n",
            "mean symmetry ---> 2.2175150059646405\n",
            "mean fractal dimension ---> 2.255746885296269\n",
            "radius error ---> 2.4897339267376193\n",
            "texture error ---> -0.5652650590684639\n",
            "perimeter error ---> 2.833030865855184\n",
            "area error ---> 2.4875775569611043\n",
            "smoothness error ---> -0.21400164666895383\n",
            "compactness error ---> 1.3168615683959484\n",
            "concavity error ---> 0.72402615808036\n",
            "concave points error ---> 0.6608199414286064\n",
            "symmetry error ---> 1.1487566671861758\n",
            "fractal dimension error ---> 0.9070830809973359\n",
            "worst radius ---> 1.8866896251792757\n",
            "worst texture ---> -1.3592934737640827\n",
            "worst perimeter ---> 2.3036006236225606\n",
            "worst area ---> 2.0012374893299207\n",
            "worst smoothness ---> 1.3076862710715387\n",
            "worst compactness ---> 2.616665023512603\n",
            "worst concavity ---> 2.1095263465722556\n",
            "worst concave points ---> 2.296076127561788\n",
            "worst symmetry ---> 2.750622244124955\n",
            "worst fractal dimension ---> 1.9370146123781782\n"
          ]
        }
      ]
    },
    {
      "cell_type": "code",
      "metadata": {
        "colab": {
          "base_uri": "https://localhost:8080/"
        },
        "id": "p0g1FEx4oJcH",
        "outputId": "fd6a5666-0989-46a9-d850-4c9e2e53ad63"
      },
      "source": [
        "print(feature[0])\n",
        "print(data['target_names'][label[0]],\"-\",label[0])     #label[0] will have value either 0 or 1 and that accordingly decide whether its benign or malignant"
      ],
      "execution_count": 210,
      "outputs": [
        {
          "output_type": "stream",
          "name": "stdout",
          "text": [
            "[ 1.09706398 -2.07333501  1.26993369  0.9843749   1.56846633  3.28351467\n",
            "  2.65287398  2.53247522  2.21751501  2.25574689  2.48973393 -0.56526506\n",
            "  2.83303087  2.48757756 -0.21400165  1.31686157  0.72402616  0.66081994\n",
            "  1.14875667  0.90708308  1.88668963 -1.35929347  2.30360062  2.00123749\n",
            "  1.30768627  2.61666502  2.10952635  2.29607613  2.75062224  1.93701461]\n",
            "malignant - 0\n"
          ]
        }
      ]
    },
    {
      "cell_type": "code",
      "metadata": {
        "colab": {
          "base_uri": "https://localhost:8080/",
          "height": 467
        },
        "id": "icb1m1s9tBaG",
        "outputId": "f8e209bb-0166-43ed-84d1-e093b7a0dd74"
      },
      "source": [
        "df_feat=pd.DataFrame(feature,columns=data['feature_names'])\n",
        "df_lbl=pd.DataFrame(label,columns=['label'])\n",
        "df=pd.concat([df_feat,df_lbl],axis=1)\n",
        "df=df.sample(frac=1)      # shuffling complete dataset\n",
        "df"
      ],
      "execution_count": 211,
      "outputs": [
        {
          "output_type": "execute_result",
          "data": {
            "text/html": [
              "<div>\n",
              "<style scoped>\n",
              "    .dataframe tbody tr th:only-of-type {\n",
              "        vertical-align: middle;\n",
              "    }\n",
              "\n",
              "    .dataframe tbody tr th {\n",
              "        vertical-align: top;\n",
              "    }\n",
              "\n",
              "    .dataframe thead th {\n",
              "        text-align: right;\n",
              "    }\n",
              "</style>\n",
              "<table border=\"1\" class=\"dataframe\">\n",
              "  <thead>\n",
              "    <tr style=\"text-align: right;\">\n",
              "      <th></th>\n",
              "      <th>mean radius</th>\n",
              "      <th>mean texture</th>\n",
              "      <th>mean perimeter</th>\n",
              "      <th>mean area</th>\n",
              "      <th>mean smoothness</th>\n",
              "      <th>mean compactness</th>\n",
              "      <th>mean concavity</th>\n",
              "      <th>mean concave points</th>\n",
              "      <th>mean symmetry</th>\n",
              "      <th>mean fractal dimension</th>\n",
              "      <th>radius error</th>\n",
              "      <th>texture error</th>\n",
              "      <th>perimeter error</th>\n",
              "      <th>area error</th>\n",
              "      <th>smoothness error</th>\n",
              "      <th>compactness error</th>\n",
              "      <th>concavity error</th>\n",
              "      <th>concave points error</th>\n",
              "      <th>symmetry error</th>\n",
              "      <th>fractal dimension error</th>\n",
              "      <th>worst radius</th>\n",
              "      <th>worst texture</th>\n",
              "      <th>worst perimeter</th>\n",
              "      <th>worst area</th>\n",
              "      <th>worst smoothness</th>\n",
              "      <th>worst compactness</th>\n",
              "      <th>worst concavity</th>\n",
              "      <th>worst concave points</th>\n",
              "      <th>worst symmetry</th>\n",
              "      <th>worst fractal dimension</th>\n",
              "      <th>label</th>\n",
              "    </tr>\n",
              "  </thead>\n",
              "  <tbody>\n",
              "    <tr>\n",
              "      <th>247</th>\n",
              "      <td>-0.351408</td>\n",
              "      <td>-1.205339</td>\n",
              "      <td>-0.289115</td>\n",
              "      <td>-0.405822</td>\n",
              "      <td>-0.623429</td>\n",
              "      <td>0.573453</td>\n",
              "      <td>0.610180</td>\n",
              "      <td>-0.235219</td>\n",
              "      <td>-0.787211</td>\n",
              "      <td>0.183210</td>\n",
              "      <td>-0.731486</td>\n",
              "      <td>-1.409116</td>\n",
              "      <td>-0.234179</td>\n",
              "      <td>-0.527757</td>\n",
              "      <td>-0.513347</td>\n",
              "      <td>1.701382</td>\n",
              "      <td>1.647449</td>\n",
              "      <td>0.308825</td>\n",
              "      <td>-0.954377</td>\n",
              "      <td>1.422261</td>\n",
              "      <td>-0.389147</td>\n",
              "      <td>-1.299041</td>\n",
              "      <td>-0.067352</td>\n",
              "      <td>-0.424506</td>\n",
              "      <td>-0.305475</td>\n",
              "      <td>2.103300</td>\n",
              "      <td>2.401216</td>\n",
              "      <td>0.631809</td>\n",
              "      <td>-0.423463</td>\n",
              "      <td>1.876057</td>\n",
              "      <td>1</td>\n",
              "    </tr>\n",
              "    <tr>\n",
              "      <th>129</th>\n",
              "      <td>1.608290</td>\n",
              "      <td>1.356762</td>\n",
              "      <td>1.582979</td>\n",
              "      <td>1.527599</td>\n",
              "      <td>0.365770</td>\n",
              "      <td>1.033974</td>\n",
              "      <td>2.080367</td>\n",
              "      <td>1.701909</td>\n",
              "      <td>1.425260</td>\n",
              "      <td>-0.236401</td>\n",
              "      <td>0.325291</td>\n",
              "      <td>-0.032392</td>\n",
              "      <td>-0.050027</td>\n",
              "      <td>0.505884</td>\n",
              "      <td>-0.669353</td>\n",
              "      <td>0.352767</td>\n",
              "      <td>0.519116</td>\n",
              "      <td>-0.221601</td>\n",
              "      <td>-0.576612</td>\n",
              "      <td>-0.215945</td>\n",
              "      <td>1.317213</td>\n",
              "      <td>1.286918</td>\n",
              "      <td>1.234289</td>\n",
              "      <td>1.245335</td>\n",
              "      <td>-0.213419</td>\n",
              "      <td>0.838655</td>\n",
              "      <td>1.415804</td>\n",
              "      <td>0.892184</td>\n",
              "      <td>0.653979</td>\n",
              "      <td>0.039023</td>\n",
              "      <td>0</td>\n",
              "    </tr>\n",
              "    <tr>\n",
              "      <th>351</th>\n",
              "      <td>0.460872</td>\n",
              "      <td>-0.016208</td>\n",
              "      <td>0.623248</td>\n",
              "      <td>0.294964</td>\n",
              "      <td>1.988342</td>\n",
              "      <td>2.502714</td>\n",
              "      <td>2.543646</td>\n",
              "      <td>1.941793</td>\n",
              "      <td>2.056873</td>\n",
              "      <td>1.875829</td>\n",
              "      <td>0.415882</td>\n",
              "      <td>0.194401</td>\n",
              "      <td>0.302434</td>\n",
              "      <td>0.239443</td>\n",
              "      <td>0.762705</td>\n",
              "      <td>2.241833</td>\n",
              "      <td>2.242618</td>\n",
              "      <td>1.789799</td>\n",
              "      <td>4.224151</td>\n",
              "      <td>1.337155</td>\n",
              "      <td>0.225888</td>\n",
              "      <td>-0.245442</td>\n",
              "      <td>0.361564</td>\n",
              "      <td>0.061029</td>\n",
              "      <td>0.992068</td>\n",
              "      <td>1.592480</td>\n",
              "      <td>1.991028</td>\n",
              "      <td>1.505816</td>\n",
              "      <td>2.174692</td>\n",
              "      <td>1.166735</td>\n",
              "      <td>0</td>\n",
              "    </tr>\n",
              "    <tr>\n",
              "      <th>173</th>\n",
              "      <td>-0.865474</td>\n",
              "      <td>-1.065715</td>\n",
              "      <td>-0.896259</td>\n",
              "      <td>-0.802575</td>\n",
              "      <td>0.301721</td>\n",
              "      <td>-0.889033</td>\n",
              "      <td>-0.818199</td>\n",
              "      <td>-0.595561</td>\n",
              "      <td>-0.896740</td>\n",
              "      <td>0.551787</td>\n",
              "      <td>-0.714162</td>\n",
              "      <td>1.067100</td>\n",
              "      <td>-0.737130</td>\n",
              "      <td>-0.467692</td>\n",
              "      <td>2.639781</td>\n",
              "      <td>-0.238544</td>\n",
              "      <td>-0.575729</td>\n",
              "      <td>0.654332</td>\n",
              "      <td>1.244409</td>\n",
              "      <td>0.374505</td>\n",
              "      <td>-1.018678</td>\n",
              "      <td>-1.442344</td>\n",
              "      <td>-1.049987</td>\n",
              "      <td>-0.850976</td>\n",
              "      <td>-0.472051</td>\n",
              "      <td>-1.093302</td>\n",
              "      <td>-1.116904</td>\n",
              "      <td>-1.089406</td>\n",
              "      <td>-1.615768</td>\n",
              "      <td>-0.599367</td>\n",
              "      <td>1</td>\n",
              "    </tr>\n",
              "    <tr>\n",
              "      <th>206</th>\n",
              "      <td>-1.207427</td>\n",
              "      <td>-0.469986</td>\n",
              "      <td>-1.196536</td>\n",
              "      <td>-1.022424</td>\n",
              "      <td>0.892395</td>\n",
              "      <td>-0.606845</td>\n",
              "      <td>-0.894408</td>\n",
              "      <td>-0.758321</td>\n",
              "      <td>0.446807</td>\n",
              "      <td>0.007427</td>\n",
              "      <td>-0.691063</td>\n",
              "      <td>0.227059</td>\n",
              "      <td>-0.667826</td>\n",
              "      <td>-0.616204</td>\n",
              "      <td>0.892710</td>\n",
              "      <td>-0.725901</td>\n",
              "      <td>-0.793073</td>\n",
              "      <td>-0.692495</td>\n",
              "      <td>0.188604</td>\n",
              "      <td>-0.500390</td>\n",
              "      <td>-1.211265</td>\n",
              "      <td>-0.400144</td>\n",
              "      <td>-1.196831</td>\n",
              "      <td>-0.965064</td>\n",
              "      <td>0.400283</td>\n",
              "      <td>-0.824215</td>\n",
              "      <td>-1.007761</td>\n",
              "      <td>-0.894201</td>\n",
              "      <td>0.142760</td>\n",
              "      <td>-0.562239</td>\n",
              "      <td>1</td>\n",
              "    </tr>\n",
              "    <tr>\n",
              "      <th>...</th>\n",
              "      <td>...</td>\n",
              "      <td>...</td>\n",
              "      <td>...</td>\n",
              "      <td>...</td>\n",
              "      <td>...</td>\n",
              "      <td>...</td>\n",
              "      <td>...</td>\n",
              "      <td>...</td>\n",
              "      <td>...</td>\n",
              "      <td>...</td>\n",
              "      <td>...</td>\n",
              "      <td>...</td>\n",
              "      <td>...</td>\n",
              "      <td>...</td>\n",
              "      <td>...</td>\n",
              "      <td>...</td>\n",
              "      <td>...</td>\n",
              "      <td>...</td>\n",
              "      <td>...</td>\n",
              "      <td>...</td>\n",
              "      <td>...</td>\n",
              "      <td>...</td>\n",
              "      <td>...</td>\n",
              "      <td>...</td>\n",
              "      <td>...</td>\n",
              "      <td>...</td>\n",
              "      <td>...</td>\n",
              "      <td>...</td>\n",
              "      <td>...</td>\n",
              "      <td>...</td>\n",
              "      <td>...</td>\n",
              "    </tr>\n",
              "    <tr>\n",
              "      <th>10</th>\n",
              "      <td>0.537556</td>\n",
              "      <td>0.919273</td>\n",
              "      <td>0.442011</td>\n",
              "      <td>0.406453</td>\n",
              "      <td>-1.017686</td>\n",
              "      <td>-0.713542</td>\n",
              "      <td>-0.700684</td>\n",
              "      <td>-0.404686</td>\n",
              "      <td>-1.035476</td>\n",
              "      <td>-0.826124</td>\n",
              "      <td>-0.092656</td>\n",
              "      <td>-0.054164</td>\n",
              "      <td>-0.198042</td>\n",
              "      <td>0.003805</td>\n",
              "      <td>-1.004034</td>\n",
              "      <td>-0.905921</td>\n",
              "      <td>-0.692442</td>\n",
              "      <td>-0.682114</td>\n",
              "      <td>-0.719485</td>\n",
              "      <td>-0.284787</td>\n",
              "      <td>0.604849</td>\n",
              "      <td>1.335771</td>\n",
              "      <td>0.492622</td>\n",
              "      <td>0.473611</td>\n",
              "      <td>-0.625477</td>\n",
              "      <td>-0.630828</td>\n",
              "      <td>-0.605872</td>\n",
              "      <td>-0.226210</td>\n",
              "      <td>0.076431</td>\n",
              "      <td>0.031819</td>\n",
              "      <td>0</td>\n",
              "    </tr>\n",
              "    <tr>\n",
              "      <th>401</th>\n",
              "      <td>-0.624062</td>\n",
              "      <td>-1.950000</td>\n",
              "      <td>-0.652001</td>\n",
              "      <td>-0.603488</td>\n",
              "      <td>-0.543724</td>\n",
              "      <td>-0.983979</td>\n",
              "      <td>-0.787690</td>\n",
              "      <td>-0.798560</td>\n",
              "      <td>-0.768957</td>\n",
              "      <td>-1.047271</td>\n",
              "      <td>-0.552108</td>\n",
              "      <td>-0.311801</td>\n",
              "      <td>-0.602482</td>\n",
              "      <td>-0.470552</td>\n",
              "      <td>-0.288671</td>\n",
              "      <td>-0.751051</td>\n",
              "      <td>-0.601260</td>\n",
              "      <td>-0.967441</td>\n",
              "      <td>-1.160210</td>\n",
              "      <td>-0.733015</td>\n",
              "      <td>-0.511326</td>\n",
              "      <td>-0.901702</td>\n",
              "      <td>-0.584434</td>\n",
              "      <td>-0.511699</td>\n",
              "      <td>0.220556</td>\n",
              "      <td>-0.615561</td>\n",
              "      <td>-0.579486</td>\n",
              "      <td>-0.698082</td>\n",
              "      <td>-0.713046</td>\n",
              "      <td>-0.627629</td>\n",
              "      <td>1</td>\n",
              "    </tr>\n",
              "    <tr>\n",
              "      <th>22</th>\n",
              "      <td>0.344426</td>\n",
              "      <td>-1.170433</td>\n",
              "      <td>0.433773</td>\n",
              "      <td>0.140814</td>\n",
              "      <td>0.778530</td>\n",
              "      <td>2.068725</td>\n",
              "      <td>1.492795</td>\n",
              "      <td>1.254641</td>\n",
              "      <td>2.589911</td>\n",
              "      <td>1.066377</td>\n",
              "      <td>0.121370</td>\n",
              "      <td>-0.920332</td>\n",
              "      <td>0.256397</td>\n",
              "      <td>0.100612</td>\n",
              "      <td>-0.083996</td>\n",
              "      <td>1.553833</td>\n",
              "      <td>1.079801</td>\n",
              "      <td>1.739514</td>\n",
              "      <td>1.958772</td>\n",
              "      <td>0.226609</td>\n",
              "      <td>0.372916</td>\n",
              "      <td>-1.074317</td>\n",
              "      <td>0.531343</td>\n",
              "      <td>0.176348</td>\n",
              "      <td>0.290694</td>\n",
              "      <td>2.170095</td>\n",
              "      <td>1.719008</td>\n",
              "      <td>1.898662</td>\n",
              "      <td>2.857396</td>\n",
              "      <td>0.859731</td>\n",
              "      <td>0</td>\n",
              "    </tr>\n",
              "    <tr>\n",
              "      <th>45</th>\n",
              "      <td>1.284513</td>\n",
              "      <td>-0.393193</td>\n",
              "      <td>1.307005</td>\n",
              "      <td>1.197683</td>\n",
              "      <td>0.963560</td>\n",
              "      <td>1.217803</td>\n",
              "      <td>1.363478</td>\n",
              "      <td>1.340793</td>\n",
              "      <td>0.348232</td>\n",
              "      <td>-0.327128</td>\n",
              "      <td>0.807481</td>\n",
              "      <td>-1.004336</td>\n",
              "      <td>0.706379</td>\n",
              "      <td>0.686958</td>\n",
              "      <td>-0.249003</td>\n",
              "      <td>0.808267</td>\n",
              "      <td>0.784040</td>\n",
              "      <td>0.836006</td>\n",
              "      <td>0.452555</td>\n",
              "      <td>-0.098309</td>\n",
              "      <td>1.356558</td>\n",
              "      <td>-0.709547</td>\n",
              "      <td>1.290882</td>\n",
              "      <td>1.206661</td>\n",
              "      <td>1.557551</td>\n",
              "      <td>1.620470</td>\n",
              "      <td>2.217950</td>\n",
              "      <td>1.875822</td>\n",
              "      <td>1.453162</td>\n",
              "      <td>0.438017</td>\n",
              "      <td>0</td>\n",
              "    </tr>\n",
              "    <tr>\n",
              "      <th>75</th>\n",
              "      <td>0.551757</td>\n",
              "      <td>0.083856</td>\n",
              "      <td>0.499677</td>\n",
              "      <td>0.463051</td>\n",
              "      <td>-0.333074</td>\n",
              "      <td>-0.380943</td>\n",
              "      <td>0.111622</td>\n",
              "      <td>0.450385</td>\n",
              "      <td>-0.049721</td>\n",
              "      <td>-1.259911</td>\n",
              "      <td>1.235173</td>\n",
              "      <td>-0.364417</td>\n",
              "      <td>1.070722</td>\n",
              "      <td>0.856151</td>\n",
              "      <td>1.259725</td>\n",
              "      <td>-0.192715</td>\n",
              "      <td>0.102995</td>\n",
              "      <td>1.020925</td>\n",
              "      <td>-0.610514</td>\n",
              "      <td>-0.698594</td>\n",
              "      <td>0.724957</td>\n",
              "      <td>-0.181933</td>\n",
              "      <td>0.641551</td>\n",
              "      <td>0.601939</td>\n",
              "      <td>0.772888</td>\n",
              "      <td>-0.316575</td>\n",
              "      <td>0.051389</td>\n",
              "      <td>0.569380</td>\n",
              "      <td>-0.405668</td>\n",
              "      <td>-1.112518</td>\n",
              "      <td>0</td>\n",
              "    </tr>\n",
              "  </tbody>\n",
              "</table>\n",
              "<p>569 rows × 31 columns</p>\n",
              "</div>"
            ],
            "text/plain": [
              "     mean radius  mean texture  ...  worst fractal dimension  label\n",
              "247    -0.351408     -1.205339  ...                 1.876057      1\n",
              "129     1.608290      1.356762  ...                 0.039023      0\n",
              "351     0.460872     -0.016208  ...                 1.166735      0\n",
              "173    -0.865474     -1.065715  ...                -0.599367      1\n",
              "206    -1.207427     -0.469986  ...                -0.562239      1\n",
              "..           ...           ...  ...                      ...    ...\n",
              "10      0.537556      0.919273  ...                 0.031819      0\n",
              "401    -0.624062     -1.950000  ...                -0.627629      1\n",
              "22      0.344426     -1.170433  ...                 0.859731      0\n",
              "45      1.284513     -0.393193  ...                 0.438017      0\n",
              "75      0.551757      0.083856  ...                -1.112518      0\n",
              "\n",
              "[569 rows x 31 columns]"
            ]
          },
          "metadata": {},
          "execution_count": 211
        }
      ]
    },
    {
      "cell_type": "code",
      "metadata": {
        "id": "G8uRuQJXDNat"
      },
      "source": [
        "feature=df.values[:, :30]\n",
        "label=df.values[:, 30:]\n",
        "\n"
      ],
      "execution_count": 212,
      "outputs": []
    },
    {
      "cell_type": "markdown",
      "metadata": {
        "id": "Z9W_eS4auV2L"
      },
      "source": [
        "# dividing data for Training , Validating & Testing."
      ]
    },
    {
      "cell_type": "code",
      "metadata": {
        "id": "VYyjouGVtBe-"
      },
      "source": [
        "#500 Training\n",
        "x_train=feature[:500]\n",
        "y_train=label[:500]\n",
        "\n",
        "#35 Validation\n",
        "x_val=feature[500:535]\n",
        "y_val=label[500:535]\n",
        "\n",
        "#34 Testing\n",
        "x_test=feature[535:]\n",
        "y_test=label[535:]"
      ],
      "execution_count": 213,
      "outputs": []
    },
    {
      "cell_type": "code",
      "metadata": {
        "id": "FjUtXZL0v3-r"
      },
      "source": [
        ""
      ],
      "execution_count": 213,
      "outputs": []
    },
    {
      "cell_type": "markdown",
      "metadata": {
        "id": "XnYXXtakxcQK"
      },
      "source": [
        "# Initializing our neural network"
      ]
    },
    {
      "cell_type": "code",
      "metadata": {
        "id": "hzUDnckUv4BT"
      },
      "source": [
        "model=Sequential()     #create an empty neural network/stack where u can add ur neural layers in sequence (Empty stack sequential based model)\n",
        "#adding layer....\n",
        "model.add(Dense(50 , activation='relu' ,input_dim=30))\n",
        "model.add(Dense(25 , activation='relu' ))\n",
        "model.add(Dense(12, activation='relu' ))\n",
        "model.add(Dense(6 , activation='relu' ))\n",
        "model.add(Dense(3 , activation='relu' ))\n",
        "model.add(Dense(1 , activation='sigmoid'))     # in o/p layer used sigmoid activation funcn bcoz we want o/p 0 or 1 only or near to it .\n",
        "\n",
        "model.compile(loss='binary_crossentropy' , optimizer=\"adam\" , metrics=['accuracy'])    # optimizer will update/tune weights whenever you propogate backward or forward"
      ],
      "execution_count": 219,
      "outputs": []
    },
    {
      "cell_type": "code",
      "metadata": {
        "colab": {
          "base_uri": "https://localhost:8080/"
        },
        "id": "fQtUInCAv4Dp",
        "outputId": "1e4d7f04-7c7b-4684-bf20-ed72cbed954b"
      },
      "source": [
        "model.fit(x_train , y_train ,batch_size=2, epochs=5 ,validation_data =(x_val,y_val))"
      ],
      "execution_count": 220,
      "outputs": [
        {
          "output_type": "stream",
          "name": "stdout",
          "text": [
            "Epoch 1/5\n",
            "250/250 [==============================] - 1s 3ms/step - loss: 0.3991 - accuracy: 0.8020 - val_loss: 0.2234 - val_accuracy: 0.9714\n",
            "Epoch 2/5\n",
            "250/250 [==============================] - 1s 2ms/step - loss: 0.2825 - accuracy: 0.9680 - val_loss: 0.1903 - val_accuracy: 0.9429\n",
            "Epoch 3/5\n",
            "250/250 [==============================] - 0s 2ms/step - loss: 0.2410 - accuracy: 0.9760 - val_loss: 0.1612 - val_accuracy: 0.9429\n",
            "Epoch 4/5\n",
            "250/250 [==============================] - 1s 2ms/step - loss: 0.2132 - accuracy: 0.9800 - val_loss: 0.1603 - val_accuracy: 1.0000\n",
            "Epoch 5/5\n",
            "250/250 [==============================] - 0s 2ms/step - loss: 0.1859 - accuracy: 0.9920 - val_loss: 0.1498 - val_accuracy: 0.9714\n"
          ]
        },
        {
          "output_type": "execute_result",
          "data": {
            "text/plain": [
              "<keras.callbacks.History at 0x7ff0d6f34690>"
            ]
          },
          "metadata": {},
          "execution_count": 220
        }
      ]
    },
    {
      "cell_type": "code",
      "metadata": {
        "colab": {
          "base_uri": "https://localhost:8080/"
        },
        "id": "kYrW1JLFv4Hm",
        "outputId": "ac629238-bdf1-4be4-8afc-4c8bd1e792c4"
      },
      "source": [
        "model.evaluate(x_test , y_test)"
      ],
      "execution_count": 221,
      "outputs": [
        {
          "output_type": "stream",
          "name": "stdout",
          "text": [
            "2/2 [==============================] - 0s 6ms/step - loss: 0.2704 - accuracy: 0.9412\n"
          ]
        },
        {
          "output_type": "execute_result",
          "data": {
            "text/plain": [
              "[0.2703942656517029, 0.9411764740943909]"
            ]
          },
          "metadata": {},
          "execution_count": 221
        }
      ]
    },
    {
      "cell_type": "code",
      "metadata": {
        "colab": {
          "base_uri": "https://localhost:8080/"
        },
        "id": "9bH4cqW8v4Jf",
        "outputId": "9ecf8979-f6f4-439e-b10f-ef05f78bf616"
      },
      "source": [
        "sample=x_test[10]      # taking 11th sample of test data\n",
        "# print(sample)\n",
        "# print(sample.shape)\n",
        "# print(model.predict(sample))    -----> error : input shape to have value 30 but received input with shape (None, 1)\n",
        "sample=np.reshape(sample,(1,30))\n",
        "print(sample)\n",
        "\n",
        "if model.predict(sample)[0][0] > 0.5 :\n",
        "  print('benign')\n",
        "else:\n",
        "  print('Malignant')  \n",
        "\n",
        "# you can verify by taking x_test[0] i.e 1st sample of test data and its label is y_test[10]\n"
      ],
      "execution_count": 222,
      "outputs": [
        {
          "output_type": "stream",
          "name": "stdout",
          "text": [
            "[[ 1.57704797  0.55625084  1.56238411  1.53328671  0.11455635  0.56018708\n",
            "   1.22411827  1.58325667  0.98714708 -0.80060746  0.78474311  1.93617087\n",
            "   1.1420063   0.60115097 -0.76169052  0.45839824  0.38317196  1.01605911\n",
            "   2.0604778  -0.19173707  1.34206257  1.46278943  1.49938299  1.1591973\n",
            "  -0.46328374  0.58229021  0.96531699  1.68853489  1.85113622 -0.26410166]]\n",
            "Malignant\n"
          ]
        }
      ]
    },
    {
      "cell_type": "markdown",
      "metadata": {
        "id": "dxO4emUsAX9D"
      },
      "source": [
        "# Automate for more than 1 samples :\n"
      ]
    },
    {
      "cell_type": "code",
      "metadata": {
        "colab": {
          "base_uri": "https://localhost:8080/"
        },
        "id": "lCgKVpARAUos",
        "outputId": "5b96f57a-c303-405e-fd5a-7c2dbaa3e8ae"
      },
      "source": [
        "for i in range(15):\n",
        "  sample=x_test[i]      \n",
        "\n",
        "  sample=np.reshape(sample,(1,30))\n",
        "\n",
        "\n",
        "  if model.predict(sample)[0][0] > 0.5 :\n",
        "    print('Predicted - Benign')\n",
        "  else:\n",
        "    print('Predicted - Malignant') \n",
        "\n",
        "  if y_test[i]==0:\n",
        "    print(\"Reality - malignant\")\n",
        "  else:\n",
        "    print(\"Reality - benign\") \n",
        "    print(\"----------\")    \n"
      ],
      "execution_count": 223,
      "outputs": [
        {
          "output_type": "stream",
          "name": "stdout",
          "text": [
            "Predicted - Malignant\n",
            "Reality - malignant\n",
            "Predicted - Benign\n",
            "Reality - benign\n",
            "----------\n",
            "Predicted - Malignant\n",
            "Reality - malignant\n",
            "Predicted - Malignant\n",
            "Reality - malignant\n",
            "Predicted - Malignant\n",
            "Reality - malignant\n",
            "Predicted - Benign\n",
            "Reality - benign\n",
            "----------\n",
            "Predicted - Malignant\n",
            "Reality - malignant\n",
            "Predicted - Benign\n",
            "Reality - benign\n",
            "----------\n",
            "Predicted - Benign\n",
            "Reality - benign\n",
            "----------\n",
            "Predicted - Malignant\n",
            "Reality - malignant\n",
            "Predicted - Malignant\n",
            "Reality - malignant\n",
            "Predicted - Benign\n",
            "Reality - benign\n",
            "----------\n",
            "Predicted - Benign\n",
            "Reality - benign\n",
            "----------\n",
            "Predicted - Malignant\n",
            "Reality - malignant\n",
            "Predicted - Benign\n",
            "Reality - benign\n",
            "----------\n"
          ]
        }
      ]
    }
  ]
}